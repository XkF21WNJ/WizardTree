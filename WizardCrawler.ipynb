{
 "cells": [
  {
   "cell_type": "markdown",
   "metadata": {},
   "source": [
    "# Wizard Crawler \n",
    "*(noun)*\n",
    "1. Crawls threads in search of comments from the wizard, /u/XiuathoTheWizard, and compiles them into a .json file.\n",
    "2. Converts the result into an easy to navigate html.\n",
    "3. For more info see the [Github repository](https://github.com/XkF21WNJ/WizardTree)\n",
    "\n",
    "Credits to /u/XiuathoTheWizard and everyone else who contributed to the story.\n",
    "\n",
    "Code by /u/XkF21WNJ."
   ]
  },
  {
   "cell_type": "markdown",
   "metadata": {},
   "source": [
    "### Crawl Thread"
   ]
  },
  {
   "cell_type": "code",
   "execution_count": null,
   "metadata": {
    "collapsed": false
   },
   "outputs": [],
   "source": [
    "#Imports\n",
    "import praw\n",
    "import markdown as md\n",
    "\n",
    "#Definitions\n",
    "def YieldAll(comments):\n",
    "    for c in comments:\n",
    "        if isinstance(c, praw.objects.MoreComments):\n",
    "            for x in YieldAll(c.comments()): yield x\n",
    "        else: yield c\n",
    "\n",
    "def IsWizard(story, comment):\n",
    "    return str(comment.author) == story['author']\n",
    "\n",
    "def FindWizard(story, comments):\n",
    "    for c in YieldAll(comments):\n",
    "        if IsWizard(story, c): yield c\n",
    "\n",
    "def GetEvent(story, comments, parent=\"\"):\n",
    "    for c in FindWizard(story, comments):\n",
    "        story['events'][c.id] = {\"description\": md.markdown(c.body), \n",
    "                                 \"actions\" : list(GetActions(story, c)),\n",
    "                                 \"parent\" : parent,\n",
    "                                 \"url\" : c.permalink}\n",
    "        if parent == \"\": story['start'] = c.id\n",
    "        return c.id\n",
    "\n",
    "def GetActions(story, comment):\n",
    "    for r in YieldAll(comment.replies):\n",
    "        consequence = GetEvent(story, r.replies, comment.id)\n",
    "        if consequence == None: continue;\n",
    "        story['actions'][r.id] = {\"description\": md.markdown(r.body),\n",
    "                                  \"consequence\" : consequence,\n",
    "                                  \"actor\" : r.author.name,\n",
    "                                  \"url\" : r.permalink}\n",
    "        story['actors'].append(r.author.name)\n",
    "        yield r.id;\n",
    "        \n",
    "def Crawl(submission_id, author):\n",
    "    #Initialisation\n",
    "    r = praw.Reddit(user_agent='WizardCrawler/0.1 (by /u/XkF21WNJ)')\n",
    "    submission = r.get_submission(submission_id = submission_id)    \n",
    "    story = {'author' : author, \n",
    "             'url' : submission.url,\n",
    "             'start' : \"\",\n",
    "             'events' : {}, \n",
    "             'actions' : {}, \n",
    "             'actors' : []}\n",
    "\n",
    "    #Parse thread\n",
    "    GetEvent(story, submission.comments)\n",
    "    \n",
    "    #Finalize\n",
    "    uniq_actors = list(set(story['actors']))\n",
    "    uniq_actors.sort(key = story['actors'].count, reverse = True)\n",
    "    story['actors'] = uniq_actors\n",
    "    \n",
    "    return story\n",
    "\n",
    "story = Crawl('3xyesc', \"XiuathoTheWizard\")"
   ]
  },
  {
   "cell_type": "markdown",
   "metadata": {},
   "source": [
    "### Import / Export"
   ]
  },
  {
   "cell_type": "markdown",
   "metadata": {},
   "source": [
    "#### Import tree from file"
   ]
  },
  {
   "cell_type": "code",
   "execution_count": 1,
   "metadata": {
    "collapsed": true
   },
   "outputs": [],
   "source": [
    "import json\n",
    "\n",
    "f = open(\"Output/WizardTree.json\",'r')\n",
    "story = json.load(f)\n",
    "f.close()"
   ]
  },
  {
   "cell_type": "markdown",
   "metadata": {},
   "source": [
    "#### Export tree to file"
   ]
  },
  {
   "cell_type": "code",
   "execution_count": 75,
   "metadata": {
    "collapsed": false
   },
   "outputs": [],
   "source": [
    "import json\n",
    "\n",
    "f = open(\"Output/WizardTree.json\",'w')\n",
    "json.dump(story, f, indent=4)\n",
    "f.close()"
   ]
  },
  {
   "cell_type": "markdown",
   "metadata": {},
   "source": [
    "### HTML conversion"
   ]
  },
  {
   "cell_type": "code",
   "execution_count": 2,
   "metadata": {
    "collapsed": false
   },
   "outputs": [],
   "source": [
    "#Imports\n",
    "from html import HTML\n",
    "\n",
    "#Definitions\n",
    "def Truncate(text):\n",
    "    return text[:60] + (text[60:] and '..')\n",
    "\n",
    "def ParseEvent(story, body, event_id, index):\n",
    "    event = story['events'][event_id]\n",
    "    div = body.div(klass = 'event')\n",
    "    div.a('', name = event_id)\n",
    "    \n",
    "    links = div.div(klass = 'link-container')\n",
    "    if event['parent'] != None:     \n",
    "        links.a('Go to Previous', \n",
    "                href = '#'+event['parent'],\n",
    "                klass = 'left-link')\n",
    "    else:\n",
    "        links.a('Go to Index', href = '#index', klass = 'left-link')\n",
    "    links.a('Go to Original', href = event['url'], klass = 'right-link')\n",
    "    \n",
    "    div.text(event['description'], escape=False)\n",
    "    \n",
    "    for action_id in event['actions']:\n",
    "        ParseAction(story, body, action_id, div.ul(), index)\n",
    "\n",
    "def ParseAction(story, body, action_id, ul, index):\n",
    "    action = story['actions'][action_id]\n",
    "    href = '#'+action['consequence']\n",
    "    \n",
    "    indli = index.li()\n",
    "    indli.a(action['description'], href = href, klass='action', style = 'display: block;', escape=False)\n",
    "    \n",
    "    li = ul.li(klass = 'action')\n",
    "    a = li.a(href = href,\n",
    "             style = \"display: block;\", \n",
    "             title = '/u/'+ action['actor'])\n",
    "    \n",
    "    a.span(action['description'], escape=False)\n",
    "    ParseEvent(story, body, action['consequence'], index)\n",
    "\n",
    "def ParseStory(story):    \n",
    "    #Styling\n",
    "    css = \"\"\"\n",
    "        body {\n",
    "            font-family: arial, sans-serif;\n",
    "            width: 40em;\n",
    "            margin-left:auto;\n",
    "            margin-right:auto;\n",
    "        }\n",
    "        \n",
    "        p {\n",
    "            text-align: justiy;\n",
    "            -moz-hyphens: auto;\n",
    "            hyphens: auto;\n",
    "        }\n",
    "        \n",
    "        .event {\n",
    "            margin-bottom: 1000ex;\n",
    "        }\n",
    "        \n",
    "        .event > p {\n",
    "            font-family: Georgia, serif;\n",
    "            font-size: larger;\n",
    "            line-height: 1.5em;\n",
    "        }\n",
    "        \n",
    "        .action p {\n",
    "            margin-top: 0.25em;\n",
    "            margin-bottom: 0.25em;\n",
    "        }\n",
    "        \n",
    "        .action {\n",
    "            font-family: consolas, monospace;\n",
    "            margin: 0 0 2ex 0;\n",
    "        }\n",
    "        \n",
    "        .link-container {\n",
    "            font-family: consolas, monospace;\n",
    "            display: flex;\n",
    "        }\n",
    "        \n",
    "        .left-link{\n",
    "            width: 40ex;\n",
    "        }\n",
    "        \n",
    "        .right-link{\n",
    "            flex-grow: 1;\n",
    "            text-align: right;\n",
    "        }\n",
    "    \"\"\"\n",
    "\n",
    "    #Build HTML file\n",
    "    doc = HTML()\n",
    "    doc.text(\"<!DOCTYPE html>\", escape=False)\n",
    "\n",
    "    html = doc.html()\n",
    "    header = html.head()\n",
    "    header.meta(charset = \"UTF-8\")\n",
    "    header.title(\"XiuathoTheWizard's Epic Quest.\")\n",
    "    header.style(css, escape = False)\n",
    "\n",
    "    body = html.body()\n",
    "    index = HTML().ul()\n",
    "\n",
    "    #Parse tree\n",
    "    ParseEvent(story, body, story['start'], index)\n",
    "\n",
    "    #Add index\n",
    "    body.a('', name = 'index')\n",
    "    body.h1('Index')\n",
    "    body.div(index, escape = False)\n",
    "\n",
    "    #Add credits\n",
    "    body.a('', name = 'credits')\n",
    "    body.h1('Credits')\n",
    "    body.p(\"A special thanks to /u/XiuathoTheWizard for creating the story, and bringing the great folks at /r/TalesFromTechSupport a tale that won't soon be forgotten.\")\n",
    "    body.p(\"Also thanks to all the commenters appearing in the story:\")\n",
    "    users_ul = body.ul()\n",
    "    for actor in story['actors']: users_ul.li(\"/u/\"+actor)\n",
    "\n",
    "    body.p(\"Powered by python, coded by /u/XkF21WNJ.\")\n",
    "    \n",
    "    return doc\n",
    "    \n",
    "doc = ParseStory(story)\n",
    "\n",
    "#Export to file\n",
    "f = open(\"Output/WizardTree.html\", 'w')\n",
    "f.write(unicode(doc).encode('utf-8'))\n",
    "f.close()"
   ]
  },
  {
   "cell_type": "code",
   "execution_count": null,
   "metadata": {
    "collapsed": true
   },
   "outputs": [],
   "source": []
  }
 ],
 "metadata": {
  "kernelspec": {
   "display_name": "Python 2",
   "language": "python",
   "name": "python2"
  },
  "language_info": {
   "codemirror_mode": {
    "name": "ipython",
    "version": 2
   },
   "file_extension": ".py",
   "mimetype": "text/x-python",
   "name": "python",
   "nbconvert_exporter": "python",
   "pygments_lexer": "ipython2",
   "version": "2.7.11"
  }
 },
 "nbformat": 4,
 "nbformat_minor": 0
}
