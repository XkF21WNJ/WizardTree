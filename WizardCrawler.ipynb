{
 "cells": [
  {
   "cell_type": "markdown",
   "metadata": {},
   "source": [
    "# Wizard Crawler \n",
    "*(noun)*\n",
    "1. Crawls threads in search of comments from the wizard, /u/XiuathoTheWizard, and compiles them into a .json file.\n",
    "2. Converts the result into an easy to navigate html.\n",
    "3. For more info see the [Github repository](https://github.com/XkF21WNJ/WizardTree)\n",
    "\n",
    "Credits to /u/XiuathoTheWizard and everyone else who contributed to the story.\n",
    "\n",
    "Code by /u/XkF21WNJ."
   ]
  },
  {
   "cell_type": "markdown",
   "metadata": {},
   "source": [
    "### Crawl Thread"
   ]
  },
  {
   "cell_type": "code",
   "execution_count": 1,
   "metadata": {
    "collapsed": false
   },
   "outputs": [],
   "source": [
    "#Imports\n",
    "import praw\n",
    "\n",
    "#Definitions\n",
    "def IsWizard(comment):\n",
    "    return str(comment.author) == \"XiuathoTheWizard\"\n",
    "\n",
    "def YieldAll(comments):\n",
    "    for c in comments:\n",
    "        if isinstance(c, praw.objects.MoreComments):\n",
    "            for x in YieldAll(c.comments()): yield x\n",
    "        else: yield c\n",
    "\n",
    "def FindWizard(comments):\n",
    "    for c in YieldAll(comments):\n",
    "        if IsWizard(c): yield c\n",
    "\n",
    "def BuildTree(comments):\n",
    "    for c in FindWizard(comments):\n",
    "        return {\"description\": c.body, \"actions\" : list(GetActions(c)), \"id\" : c.id, \"url\" : c.permalink}\n",
    "\n",
    "def GetActions(comment):\n",
    "    for r in YieldAll(comment.replies):\n",
    "        tree = BuildTree(r.replies)\n",
    "        if tree == None: continue;\n",
    "            \n",
    "        yield {\"description\": r.body, \"actor\" : str(r.author), \"consequence\" : tree, \"id\" : r.id, \"url\" : r.permalink}\n",
    "\n",
    "#Initialisation\n",
    "r = praw.Reddit(user_agent='WizardCrawler/0.1 (by /u/XkF21WNJ)')\n",
    "        \n",
    "#Crawl submission\n",
    "submission = r.get_submission(submission_id='3xyesc')    \n",
    "\n",
    "#Parse thread\n",
    "tree = BuildTree(submission.comments)"
   ]
  },
  {
   "cell_type": "markdown",
   "metadata": {},
   "source": [
    "### Import / Export"
   ]
  },
  {
   "cell_type": "markdown",
   "metadata": {},
   "source": [
    "#### Import tree from file"
   ]
  },
  {
   "cell_type": "code",
   "execution_count": 2,
   "metadata": {
    "collapsed": true
   },
   "outputs": [],
   "source": [
    "import json\n",
    "\n",
    "f = open(\"Output/WizardTree.json\",'r')\n",
    "tree = json.load(f)\n",
    "f.close()"
   ]
  },
  {
   "cell_type": "markdown",
   "metadata": {},
   "source": [
    "#### Export tree to file"
   ]
  },
  {
   "cell_type": "code",
   "execution_count": 7,
   "metadata": {
    "collapsed": false
   },
   "outputs": [],
   "source": [
    "import json\n",
    "\n",
    "f = open(\"Output/WizardTree.json\",'w')\n",
    "json.dump(tree, f, indent=4)\n",
    "f.close()"
   ]
  },
  {
   "cell_type": "markdown",
   "metadata": {},
   "source": [
    "### HTML conversion"
   ]
  },
  {
   "cell_type": "code",
   "execution_count": 40,
   "metadata": {
    "collapsed": false
   },
   "outputs": [],
   "source": [
    "#Imports\n",
    "from html import HTML\n",
    "import markdown as md\n",
    "\n",
    "#Definitions\n",
    "def Truncate(text):\n",
    "    return text[:60] + (text[60:] and '..')\n",
    "\n",
    "def ParseMarkDown(text, el):\n",
    "    text=md.markdown(text)\n",
    "    el.text(text, escape=False)\n",
    "\n",
    "def ParseEvent(event, index, previous=None):\n",
    "    div = body.div(klass = 'event')\n",
    "    div.a('', name = event['id'])\n",
    "    \n",
    "    links = div.div(klass = 'link-container')\n",
    "    if previous != None:     \n",
    "        links.a('Go to Previous', \n",
    "                href = '#'+previous['id'],\n",
    "                klass = 'left-link')\n",
    "    else:\n",
    "        links.a('Go to Index', href = '#index', klass = 'left-link')\n",
    "    links.a('Go to Original', href = event['url'], klass = 'right-link')\n",
    "        \n",
    "    ParseMarkDown(event['description'], div)\n",
    "    \n",
    "    for action in event['actions']:\n",
    "        ParseAction(action, div.ul(), event, index)\n",
    "\n",
    "def ParseAction(action, ul, parent, index):\n",
    "    href = '#'+action['consequence']['id']\n",
    "    \n",
    "    indi = index.li()\n",
    "    indi.a(Truncate(action['description']), href = href, klass='action')\n",
    "    users.append(action['actor'])\n",
    "    \n",
    "    li = ul.li(klass = 'action')\n",
    "    a = li.a(href = href,\n",
    "             style = \"display: block;\", \n",
    "             title = '/u/'+ action['actor'])\n",
    "    \n",
    "    ParseMarkDown(action['description'], a.span())\n",
    "    ParseEvent(action['consequence'], index, parent)\n",
    "    \n",
    "#Styling\n",
    "css = \"\"\"\n",
    "    body {\n",
    "        font-family: arial, sans-serif;\n",
    "        width: 40em;\n",
    "        margin-left:auto;\n",
    "        margin-right:auto;\n",
    "    }\n",
    "    \n",
    "    p {\n",
    "        text-align: justiy;\n",
    "        -moz-hyphens: auto;\n",
    "        hyphens: auto;\n",
    "    }\n",
    "    \n",
    "    .event {\n",
    "        margin-bottom: 1000ex;\n",
    "    }\n",
    "    \n",
    "    .event > p {\n",
    "        font-family: Georgia, serif;\n",
    "        font-size: larger;\n",
    "        line-height: 1.5em;\n",
    "    }\n",
    "    \n",
    "    .action p {\n",
    "        margin-top: 0.25em;\n",
    "        margin-bottom: 0.25em;\n",
    "    }\n",
    "    \n",
    "    .action {\n",
    "        font-family: consolas, monospace;\n",
    "        margin: 0 0 2ex 0;\n",
    "    }\n",
    "    \n",
    "    .link-container {\n",
    "        font-family: consolas, monospace;\n",
    "        display: flex;\n",
    "    }\n",
    "    \n",
    "    .left-link{\n",
    "        width: 40ex;\n",
    "    }\n",
    "    \n",
    "    .right-link{\n",
    "        flex-grow: 1;\n",
    "        text-align: right;\n",
    "    }\n",
    "\"\"\"\n",
    "\n",
    "#Build HTML file\n",
    "doc = HTML()\n",
    "doc.text(\"<!DOCTYPE html>\", escape=False)\n",
    "\n",
    "html = doc.html()\n",
    "header = html.head()\n",
    "header.meta(charset = \"UTF-8\")\n",
    "header.title(\"XiuathoTheWizard's Epic Quest.\")\n",
    "header.style(css, escape = False)\n",
    "\n",
    "body = html.body()\n",
    "index = HTML().ul()\n",
    "users = list()\n",
    "\n",
    "#Parse tree\n",
    "ParseEvent(tree, index)\n",
    "\n",
    "#Add index\n",
    "body.a('', name = 'index')\n",
    "body.h1('Index')\n",
    "body.div(index, escape = False)\n",
    "\n",
    "#Add credits\n",
    "body.a('', name = 'credits')\n",
    "body.h1('Credits')\n",
    "body.p(\"A special thanks to /u/XiuathoTheWizard for creating the story, and bringing the /r/TalesFromTechSupport a tale that won't soon be forgotten.\")\n",
    "body.p(\"Also thanks to all the commenters appearing in the story:\")\n",
    "uniq_users = list(set(users))\n",
    "uniq_users.sort(key = users.count, reverse = True)\n",
    "users_ul = body.ul()\n",
    "for user in uniq_users: users_ul.li(\"/u/\"+user)\n",
    "\n",
    "body.p(\"Powered by python, coded by /u/XkF21WNJ.\")\n",
    "\n",
    "#Export to file\n",
    "f = open(\"Output/WizardTree.html\", 'w')\n",
    "f.write(unicode(doc).encode('utf-8'))\n",
    "f.close()"
   ]
  },
  {
   "cell_type": "code",
   "execution_count": null,
   "metadata": {
    "collapsed": true
   },
   "outputs": [],
   "source": []
  }
 ],
 "metadata": {
  "kernelspec": {
   "display_name": "Python 2",
   "language": "python",
   "name": "python2"
  },
  "language_info": {
   "codemirror_mode": {
    "name": "ipython",
    "version": 2
   },
   "file_extension": ".py",
   "mimetype": "text/x-python",
   "name": "python",
   "nbconvert_exporter": "python",
   "pygments_lexer": "ipython2",
   "version": "2.7.11"
  }
 },
 "nbformat": 4,
 "nbformat_minor": 0
}
