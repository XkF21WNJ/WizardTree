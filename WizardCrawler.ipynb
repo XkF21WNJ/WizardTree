{
 "cells": [
  {
   "cell_type": "markdown",
   "metadata": {},
   "source": [
    "# Wizard Crawler \n",
    "*(noun)*\n",
    "1. Crawls 'choose your own adventure'-style comment chains, and compiles them into a .json file.\n",
    "2. Converts the result into an easy to navigate html.\n",
    "3. For more info see the [Github repository](https://github.com/XkF21WNJ/WizardTree)\n",
    "\n",
    "Thanks to /u/XiuathoTheWizard and everyone else who contributed to his original story, for inspiring this project and bringing the great folks at /r/TalesFromTechSupport a tale that won't soon be forgotten.\n",
    "\n",
    "Code by /u/XkF21WNJ."
   ]
  },
  {
   "cell_type": "markdown",
   "metadata": {},
   "source": [
    "### Coding examples"
   ]
  },
  {
   "cell_type": "markdown",
   "metadata": {},
   "source": [
    "##### Crawl and Save XiuathoTheWizard's first tale as JSON"
   ]
  },
  {
   "cell_type": "code",
   "execution_count": 19,
   "metadata": {
    "collapsed": false
   },
   "outputs": [],
   "source": [
    "import WizardTree as wt\n",
    "\n",
    "story = wt.CrawlComment(comment_id = \"cy8z5uv\")\n",
    "\n",
    "## You can also use the url instead of the comment id ##\n",
    "# story = wt.CrawlComment(url = \"https://www.reddit.com/r/talesfromtechsupport/comments/3xyesc/project_management_seems_a_lot_like_cooking_a/cy8z5uv\") \n",
    "\n",
    "## For stories starting as a submission use \"CrawlSubmission\" ##\n",
    "\n",
    "wt.Export(story, \"Output/WizardTree.json\")"
   ]
  },
  {
   "cell_type": "markdown",
   "metadata": {},
   "source": [
    "##### Load story from JSON file"
   ]
  },
  {
   "cell_type": "code",
   "execution_count": 8,
   "metadata": {
    "collapsed": true
   },
   "outputs": [],
   "source": [
    "import WizardTree as wt\n",
    "\n",
    "story = wt.Import(\"Output/WizardTree.json\")"
   ]
  },
  {
   "cell_type": "markdown",
   "metadata": {},
   "source": [
    "##### Print some basic information about the story"
   ]
  },
  {
   "cell_type": "code",
   "execution_count": 9,
   "metadata": {
    "collapsed": false
   },
   "outputs": [
    {
     "name": "stdout",
     "output_type": "stream",
     "text": [
      "Title: Project Management seems a lot like cooking a banquet.\n",
      "Author: XiuathoTheWizard\n",
      "Url: https://www.reddit.com/r/talesfromtechsupport/comments/3xyesc/project_management_seems_a_lot_like_cooking_a/cy8z5uv\n",
      "Contains 173 events, with 29 possible endings\n"
     ]
    }
   ],
   "source": [
    "print \"Title: \" + story['title']\n",
    "print \"Author: \" + story['author']\n",
    "print \"Url: \" + story['url']\n",
    "\n",
    "print \"Contains %d events, with %d possible endings\" % (\n",
    "    len(story['events']), \n",
    "    len([1 for event in story['events'].values() if len(event['actions']) == 0]))"
   ]
  },
  {
   "cell_type": "markdown",
   "metadata": {},
   "source": [
    "##### Visualize story structure"
   ]
  },
  {
   "cell_type": "code",
   "execution_count": null,
   "metadata": {
    "collapsed": false
   },
   "outputs": [],
   "source": [
    "%matplotlib inline\n",
    "\n",
    "#Imports\n",
    "import networkx as nx\n",
    "import matplotlib.pyplot as plt\n",
    "\n",
    "#Load story\n",
    "story = Import(\"Output/WizardTree.json\")\n",
    "\n",
    "#Build graph\n",
    "G = nx.DiGraph()\n",
    "for event_id in story['events']:\n",
    "    event = story['events'][event_id]\n",
    "    for action_id in event['actions']:\n",
    "        action = story['actions'][action_id]\n",
    "        G.add_edge(event_id, action['consequence'])\n",
    "\n",
    "#Plot\n",
    "shells = {}\n",
    "pos = {}\n",
    "for node in nx.dfs_preorder_nodes(G):\n",
    "    depth = len(nx.ancestors(G, node))\n",
    "    if depth in shells:\n",
    "        shells[depth].append(node)\n",
    "    else:\n",
    "        shells[depth] = [node]\n",
    "    pos[node] = [len(shells[depth]), -depth]\n",
    "\n",
    "plt.figure(figsize=(8,20))\n",
    "nx.draw(G, pos=pos, with_labels=False)\n",
    "plt.show()"
   ]
  },
  {
   "cell_type": "markdown",
   "metadata": {},
   "source": [
    "### HTML conversion"
   ]
  },
  {
   "cell_type": "code",
   "execution_count": null,
   "metadata": {
    "collapsed": false
   },
   "outputs": [],
   "source": [
    "#Imports\n",
    "from html import HTML\n",
    "\n",
    "#Definitions\n",
    "def Truncate(text):\n",
    "    return text[:60] + (text[60:] and '..')\n",
    "\n",
    "def ParseEvent(story, body, event_id, index):\n",
    "    event = story['events'][event_id]\n",
    "    div = body.div(klass = 'event')\n",
    "    div.a('', name = event_id)\n",
    "    \n",
    "    links = div.div(klass = 'link-container')\n",
    "    if event['parent'] != None:     \n",
    "        links.a('Go to Previous', \n",
    "                href = '#'+event['parent'],\n",
    "                klass = 'left-link')\n",
    "    else:\n",
    "        links.a('Go to Index', href = '#index', klass = 'left-link')\n",
    "    links.a('Go to Original', href = event['url'], klass = 'right-link')\n",
    "    \n",
    "    div.text(event['description'], escape=False)\n",
    "    \n",
    "    for action_id in event['actions']:\n",
    "        ParseAction(story, body, action_id, div.ul(), index)\n",
    "\n",
    "def ParseAction(story, body, action_id, ul, index):\n",
    "    action = story['actions'][action_id]\n",
    "    href = '#'+action['consequence']\n",
    "    \n",
    "    indli = index.li()\n",
    "    indli.a(action['description'], href = href, klass='action', style = 'display: block;', escape=False)\n",
    "    \n",
    "    li = ul.li(klass = 'action')\n",
    "    a = li.a(href = href,\n",
    "             style = \"display: block;\", \n",
    "             title = '/u/'+ action['actor'])\n",
    "    \n",
    "    a.span(action['description'], escape=False)\n",
    "    ParseEvent(story, body, action['consequence'], index)\n",
    "\n",
    "def ParseStory(story):    \n",
    "    #Styling\n",
    "    css = \"\"\"\n",
    "        body {\n",
    "            font-family: arial, sans-serif;\n",
    "            width: 40em;\n",
    "            margin-left:auto;\n",
    "            margin-right:auto;\n",
    "        }\n",
    "        \n",
    "        p {\n",
    "            text-align: justiy;\n",
    "            -moz-hyphens: auto;\n",
    "            hyphens: auto;\n",
    "        }\n",
    "        \n",
    "        .event {\n",
    "            margin-bottom: 1000ex;\n",
    "        }\n",
    "        \n",
    "        .event > p {\n",
    "            font-family: Georgia, serif;\n",
    "            font-size: larger;\n",
    "            line-height: 1.5em;\n",
    "        }\n",
    "        \n",
    "        .action p {\n",
    "            margin-top: 0.25em;\n",
    "            margin-bottom: 0.25em;\n",
    "        }\n",
    "        \n",
    "        .action {\n",
    "            font-family: consolas, monospace;\n",
    "            margin: 0 0 2ex 0;\n",
    "        }\n",
    "        \n",
    "        .link-container {\n",
    "            font-family: consolas, monospace;\n",
    "            display: flex;\n",
    "        }\n",
    "        \n",
    "        .left-link{\n",
    "            width: 40ex;\n",
    "        }\n",
    "        \n",
    "        .right-link{\n",
    "            flex-grow: 1;\n",
    "            text-align: right;\n",
    "        }\n",
    "    \"\"\"\n",
    "\n",
    "    #Build HTML file\n",
    "    doc = HTML()\n",
    "    doc.text(\"<!DOCTYPE html>\", escape=False)\n",
    "\n",
    "    html = doc.html()\n",
    "    header = html.head()\n",
    "    header.meta(charset = \"UTF-8\")\n",
    "    header.title(story['title'])\n",
    "    header.style(css, escape = False)\n",
    "\n",
    "    body = html.body()\n",
    "    index = HTML().ul()\n",
    "\n",
    "    #Parse tree\n",
    "    ParseEvent(story, body, story['start'], index)\n",
    "\n",
    "    #Add index\n",
    "    body.a('', name = 'index')\n",
    "    body.h1('Index')\n",
    "    body.div(index, escape = False)\n",
    "\n",
    "    #Add credits\n",
    "    body.a('', name = 'credits')\n",
    "    body.h1('Credits')\n",
    "    body.p(\"A special thanks to \" + story['author'] + \" for creating the story\")\n",
    "    body.p(\"Also thanks to all the commenters appearing in the story:\")\n",
    "    users_ul = body.ul()\n",
    "    for actor in story['actors']: users_ul.li(\"/u/\"+actor)\n",
    "\n",
    "    body.p(\"Powered by python, coded by /u/XkF21WNJ.\")\n",
    "    \n",
    "    return doc\n",
    "    \n",
    "doc = ParseStory(story)\n",
    "\n",
    "#Export to file\n",
    "with open(\"Output/WizardTree.html\", 'w') as f:\n",
    "    f.write(unicode(doc).encode('utf-8'))"
   ]
  },
  {
   "cell_type": "code",
   "execution_count": null,
   "metadata": {
    "collapsed": true
   },
   "outputs": [],
   "source": []
  }
 ],
 "metadata": {
  "kernelspec": {
   "display_name": "Python 2",
   "language": "python",
   "name": "python2"
  },
  "language_info": {
   "codemirror_mode": {
    "name": "ipython",
    "version": 2
   },
   "file_extension": ".py",
   "mimetype": "text/x-python",
   "name": "python",
   "nbconvert_exporter": "python",
   "pygments_lexer": "ipython2",
   "version": "2.7.11"
  }
 },
 "nbformat": 4,
 "nbformat_minor": 0
}
